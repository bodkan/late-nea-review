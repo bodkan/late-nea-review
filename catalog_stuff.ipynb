{
 "cells": [
  {
   "cell_type": "code",
   "execution_count": 21,
   "metadata": {
    "collapsed": true
   },
   "outputs": [],
   "source": [
    "from collections import defaultdict, Counter\n",
    "\n",
    "import numpy as np\n",
    "import pandas as pd\n",
    "import pysam\n",
    "import matplotlib.pyplot as plt"
   ]
  },
  {
   "cell_type": "code",
   "execution_count": 29,
   "metadata": {
    "collapsed": true
   },
   "outputs": [],
   "source": [
    "%matplotlib inline"
   ]
  },
  {
   "cell_type": "markdown",
   "metadata": {},
   "source": [
    "## Loading the non-synonymous sites from the catalog"
   ]
  },
  {
   "cell_type": "markdown",
   "metadata": {},
   "source": [
    "Load the catalog of non-synonymous fixed modern-human-specific autosomal differences:"
   ]
  },
  {
   "cell_type": "code",
   "execution_count": 2,
   "metadata": {},
   "outputs": [],
   "source": [
    "catalog = (pd\n",
    "           .read_table('/mnt/expressions/mp/Projects/catalogs/final_version/HumDer_SNCs/fixed/fixed_HumDer_SNCs_merged_genic_ccds_nonsyn.tsv')\n",
    "           .rename(columns={'Chrom'       : 'chrom',\n",
    "                            'Pos'         : 'pos',\n",
    "                            'Consequence' : 'consequence',\n",
    "                            'Ancestor'    : 'ancestral',\n",
    "                            'Human'       : 'derived',\n",
    "                            'States'      : 'archaics'})\n",
    "          )[['chrom', 'pos', 'consequence', 'ancestral', 'derived', 'archaics']]"
   ]
  },
  {
   "cell_type": "markdown",
   "metadata": {},
   "source": [
    "Split the column with archaics states (like 'A/A,A/H,A/A,A/A' in the order Vindija, Sidron, Altai, Denisovan) into individual columns and drop the original column:"
   ]
  },
  {
   "cell_type": "code",
   "execution_count": 3,
   "metadata": {},
   "outputs": [],
   "source": [
    "catalog = catalog.join(\n",
    "    catalog['archaics']\n",
    "    .apply(lambda x: pd.Series(x.split(',')))\n",
    "    .rename(columns={0:'Vindija', 1:'ElSidron', 2:'Altai', 3:'Denisovan'})) \\\n",
    "    .drop(labels=['archaics', 'ElSidron'], axis=1)"
   ]
  },
  {
   "cell_type": "code",
   "execution_count": 4,
   "metadata": {},
   "outputs": [
    {
     "data": {
      "text/html": [
       "<div>\n",
       "<style>\n",
       "    .dataframe thead tr:only-child th {\n",
       "        text-align: right;\n",
       "    }\n",
       "\n",
       "    .dataframe thead th {\n",
       "        text-align: left;\n",
       "    }\n",
       "\n",
       "    .dataframe tbody tr th {\n",
       "        vertical-align: top;\n",
       "    }\n",
       "</style>\n",
       "<table border=\"1\" class=\"dataframe\">\n",
       "  <thead>\n",
       "    <tr style=\"text-align: right;\">\n",
       "      <th></th>\n",
       "      <th>chrom</th>\n",
       "      <th>pos</th>\n",
       "      <th>consequence</th>\n",
       "      <th>ancestral</th>\n",
       "      <th>derived</th>\n",
       "      <th>Vindija</th>\n",
       "      <th>Altai</th>\n",
       "      <th>Denisovan</th>\n",
       "    </tr>\n",
       "  </thead>\n",
       "  <tbody>\n",
       "    <tr>\n",
       "      <th>0</th>\n",
       "      <td>X</td>\n",
       "      <td>36156570</td>\n",
       "      <td>NON_SYNONYMOUS_CODING</td>\n",
       "      <td>A</td>\n",
       "      <td>G</td>\n",
       "      <td>./.</td>\n",
       "      <td>A/A</td>\n",
       "      <td>A/A</td>\n",
       "    </tr>\n",
       "    <tr>\n",
       "      <th>1</th>\n",
       "      <td>X</td>\n",
       "      <td>76939325</td>\n",
       "      <td>NON_SYNONYMOUS_CODING</td>\n",
       "      <td>C</td>\n",
       "      <td>G</td>\n",
       "      <td>./.</td>\n",
       "      <td>A/A</td>\n",
       "      <td>A/A</td>\n",
       "    </tr>\n",
       "    <tr>\n",
       "      <th>2</th>\n",
       "      <td>X</td>\n",
       "      <td>131212487</td>\n",
       "      <td>NON_SYNONYMOUS_CODING</td>\n",
       "      <td>C</td>\n",
       "      <td>G</td>\n",
       "      <td>A/A</td>\n",
       "      <td>A/A</td>\n",
       "      <td>A/A</td>\n",
       "    </tr>\n",
       "    <tr>\n",
       "      <th>3</th>\n",
       "      <td>X</td>\n",
       "      <td>152128250</td>\n",
       "      <td>NON_SYNONYMOUS_CODING</td>\n",
       "      <td>G</td>\n",
       "      <td>A</td>\n",
       "      <td>A/A</td>\n",
       "      <td>A/A</td>\n",
       "      <td>A/A</td>\n",
       "    </tr>\n",
       "    <tr>\n",
       "      <th>4</th>\n",
       "      <td>X</td>\n",
       "      <td>153543608</td>\n",
       "      <td>NON_SYNONYMOUS_CODING</td>\n",
       "      <td>A</td>\n",
       "      <td>G</td>\n",
       "      <td>A/A</td>\n",
       "      <td>A/A</td>\n",
       "      <td>A/A</td>\n",
       "    </tr>\n",
       "  </tbody>\n",
       "</table>\n",
       "</div>"
      ],
      "text/plain": [
       "  chrom        pos            consequence ancestral derived Vindija Altai  \\\n",
       "0     X   36156570  NON_SYNONYMOUS_CODING         A       G     ./.   A/A   \n",
       "1     X   76939325  NON_SYNONYMOUS_CODING         C       G     ./.   A/A   \n",
       "2     X  131212487  NON_SYNONYMOUS_CODING         C       G     A/A   A/A   \n",
       "3     X  152128250  NON_SYNONYMOUS_CODING         G       A     A/A   A/A   \n",
       "4     X  153543608  NON_SYNONYMOUS_CODING         A       G     A/A   A/A   \n",
       "\n",
       "  Denisovan  \n",
       "0       A/A  \n",
       "1       A/A  \n",
       "2       A/A  \n",
       "3       A/A  \n",
       "4       A/A  "
      ]
     },
     "execution_count": 4,
     "metadata": {},
     "output_type": "execute_result"
    }
   ],
   "source": [
    "catalog.head()"
   ]
  },
  {
   "cell_type": "markdown",
   "metadata": {},
   "source": [
    "There should be 104 fixed differences in total:"
   ]
  },
  {
   "cell_type": "code",
   "execution_count": 5,
   "metadata": {},
   "outputs": [
    {
     "data": {
      "text/plain": [
       "104"
      ]
     },
     "execution_count": 5,
     "metadata": {},
     "output_type": "execute_result"
    }
   ],
   "source": [
    "len(catalog)"
   ]
  },
  {
   "cell_type": "markdown",
   "metadata": {},
   "source": [
    "But they include also a couple of sites on the X chromosome - we don't care about that:"
   ]
  },
  {
   "cell_type": "code",
   "execution_count": 6,
   "metadata": {
    "collapsed": true
   },
   "outputs": [],
   "source": [
    "catalog = catalog.query('chrom != \"X\"')"
   ]
  },
  {
   "cell_type": "code",
   "execution_count": 7,
   "metadata": {},
   "outputs": [
    {
     "data": {
      "text/plain": [
       "99"
      ]
     },
     "execution_count": 7,
     "metadata": {},
     "output_type": "execute_result"
    }
   ],
   "source": [
    "len(catalog)"
   ]
  },
  {
   "cell_type": "markdown",
   "metadata": {},
   "source": [
    "Convert the GTs of high-coverage samples into proportions of MH-like alleles:"
   ]
  },
  {
   "cell_type": "code",
   "execution_count": 8,
   "metadata": {},
   "outputs": [],
   "source": [
    "catalog = catalog.join(\n",
    "    catalog[['Vindija', 'Altai', 'Denisovan']].replace(to_replace=['A/A', 'A/H', 'H/H', './.'],\n",
    "                                                       value=[1.0, 0.5, 0.0, np.nan]),\n",
    "    lsuffix=\"_GT\")"
   ]
  },
  {
   "cell_type": "markdown",
   "metadata": {},
   "source": [
    "All have to be 0.0, because we have fixed differences only - is that true?"
   ]
  },
  {
   "cell_type": "code",
   "execution_count": 9,
   "metadata": {},
   "outputs": [
    {
     "data": {
      "text/plain": [
       "Vindija      1.0\n",
       "Altai        1.0\n",
       "Denisovan    1.0\n",
       "dtype: float64"
      ]
     },
     "execution_count": 9,
     "metadata": {},
     "output_type": "execute_result"
    }
   ],
   "source": [
    "catalog[['Vindija', 'Altai', 'Denisovan']].mean()"
   ]
  },
  {
   "cell_type": "code",
   "execution_count": 10,
   "metadata": {},
   "outputs": [],
   "source": [
    "catalog.drop(labels=['Vindija_GT', 'Altai_GT', 'Denisovan_GT'], axis=1, inplace=True)"
   ]
  },
  {
   "cell_type": "markdown",
   "metadata": {},
   "source": [
    "The final table:"
   ]
  },
  {
   "cell_type": "code",
   "execution_count": 11,
   "metadata": {},
   "outputs": [
    {
     "data": {
      "text/html": [
       "<div>\n",
       "<style>\n",
       "    .dataframe thead tr:only-child th {\n",
       "        text-align: right;\n",
       "    }\n",
       "\n",
       "    .dataframe thead th {\n",
       "        text-align: left;\n",
       "    }\n",
       "\n",
       "    .dataframe tbody tr th {\n",
       "        vertical-align: top;\n",
       "    }\n",
       "</style>\n",
       "<table border=\"1\" class=\"dataframe\">\n",
       "  <thead>\n",
       "    <tr style=\"text-align: right;\">\n",
       "      <th></th>\n",
       "      <th>chrom</th>\n",
       "      <th>pos</th>\n",
       "      <th>consequence</th>\n",
       "      <th>ancestral</th>\n",
       "      <th>derived</th>\n",
       "      <th>Vindija</th>\n",
       "      <th>Altai</th>\n",
       "      <th>Denisovan</th>\n",
       "    </tr>\n",
       "  </thead>\n",
       "  <tbody>\n",
       "    <tr>\n",
       "      <th>5</th>\n",
       "      <td>1</td>\n",
       "      <td>79095493</td>\n",
       "      <td>NON_SYNONYMOUS_CODING</td>\n",
       "      <td>A</td>\n",
       "      <td>G</td>\n",
       "      <td>1.0</td>\n",
       "      <td>1.0</td>\n",
       "      <td>1.0</td>\n",
       "    </tr>\n",
       "    <tr>\n",
       "      <th>6</th>\n",
       "      <td>1</td>\n",
       "      <td>79106805</td>\n",
       "      <td>NON_SYNONYMOUS_CODING,SPLICE_SITE</td>\n",
       "      <td>A</td>\n",
       "      <td>G</td>\n",
       "      <td>1.0</td>\n",
       "      <td>1.0</td>\n",
       "      <td>1.0</td>\n",
       "    </tr>\n",
       "    <tr>\n",
       "      <th>7</th>\n",
       "      <td>1</td>\n",
       "      <td>118558632</td>\n",
       "      <td>NON_SYNONYMOUS_CODING</td>\n",
       "      <td>C</td>\n",
       "      <td>T</td>\n",
       "      <td>1.0</td>\n",
       "      <td>1.0</td>\n",
       "      <td>1.0</td>\n",
       "    </tr>\n",
       "    <tr>\n",
       "      <th>8</th>\n",
       "      <td>1</td>\n",
       "      <td>118634297</td>\n",
       "      <td>NON_SYNONYMOUS_CODING</td>\n",
       "      <td>C</td>\n",
       "      <td>A</td>\n",
       "      <td>1.0</td>\n",
       "      <td>1.0</td>\n",
       "      <td>1.0</td>\n",
       "    </tr>\n",
       "    <tr>\n",
       "      <th>9</th>\n",
       "      <td>1</td>\n",
       "      <td>153751869</td>\n",
       "      <td>NON_SYNONYMOUS_CODING</td>\n",
       "      <td>T</td>\n",
       "      <td>G</td>\n",
       "      <td>NaN</td>\n",
       "      <td>1.0</td>\n",
       "      <td>1.0</td>\n",
       "    </tr>\n",
       "  </tbody>\n",
       "</table>\n",
       "</div>"
      ],
      "text/plain": [
       "  chrom        pos                        consequence ancestral derived  \\\n",
       "5     1   79095493              NON_SYNONYMOUS_CODING         A       G   \n",
       "6     1   79106805  NON_SYNONYMOUS_CODING,SPLICE_SITE         A       G   \n",
       "7     1  118558632              NON_SYNONYMOUS_CODING         C       T   \n",
       "8     1  118634297              NON_SYNONYMOUS_CODING         C       A   \n",
       "9     1  153751869              NON_SYNONYMOUS_CODING         T       G   \n",
       "\n",
       "   Vindija  Altai  Denisovan  \n",
       "5      1.0    1.0        1.0  \n",
       "6      1.0    1.0        1.0  \n",
       "7      1.0    1.0        1.0  \n",
       "8      1.0    1.0        1.0  \n",
       "9      NaN    1.0        1.0  "
      ]
     },
     "execution_count": 11,
     "metadata": {},
     "output_type": "execute_result"
    }
   ],
   "source": [
    "catalog.head()"
   ]
  },
  {
   "cell_type": "markdown",
   "metadata": {},
   "source": [
    "## BAM mpileup"
   ]
  },
  {
   "cell_type": "markdown",
   "metadata": {},
   "source": [
    "The late Neanderthal samples are all coverage - no genotypes available, unlike the high-coverage archaics used to build the fixed changes catalogs.\n",
    "\n",
    "We will settle for calculating the proportion of ancestral alleles at each non-synonymous catalog sites based on `htslib`'s mpileup."
   ]
  },
  {
   "cell_type": "markdown",
   "metadata": {},
   "source": [
    "You can use `samtools tview` for debugging purposes. For example, to see the first position of the catalog in Goyet, run this:\n",
    "\n",
    "`samtools tview -p 1:79095493 /mnt/expressions/mateja/Late_Neandertals/Final_complete_dataset/L35MQ25_mapptrack_per_individual/Goyet_final.ontarget.L35MQ25.bam /mnt/solexa/Genomes/hg19_evan/whole_genome.fa`\n",
    "\n",
    "and you can see that Goyet carries ancestral allele only at this position:\n",
    "\n",
    "```\n",
    "        79095501  79095511  79095521  79095531  79095541  79095551  79095561\n",
    "GTTGGGTCTGGAAAGTCCAGTTTTTTCAATTCAGTCAAGTCTATTTTTCATGGCCATGTGACTGGCCAAGCCGTAG\n",
    "A.......................................................................... \n",
    "A...............................................                            \n",
    "a,,,,,,,,,,,,,,,,,,,,,,,,,,,,,,,,,,,,,,,,,,,,,,,\n",
    "A..........................................................................\n",
    "```"
   ]
  },
  {
   "cell_type": "markdown",
   "metadata": {},
   "source": [
    "Function that extracts bases from a pileup of reads at a given site:"
   ]
  },
  {
   "cell_type": "code",
   "execution_count": 12,
   "metadata": {
    "collapsed": true
   },
   "outputs": [],
   "source": [
    "def get_pileup_bases(chrom, pos, bamfile):\n",
    "    bases = []\n",
    "    for pilecol in bamfile.pileup(region=str(chrom), start=pos - 1, end=pos, truncate=True):\n",
    "        for pileread in pilecol.pileups:\n",
    "            if not pileread.is_del and not pileread.is_refskip:\n",
    "                bases.append(pileread.alignment.query_sequence[pileread.query_position])\n",
    "    return bases"
   ]
  },
  {
   "cell_type": "code",
   "execution_count": 13,
   "metadata": {
    "collapsed": true
   },
   "outputs": [],
   "source": [
    "late_nea = ['Goyet', 'Les_Cottes', 'Mezmaiskaya2', 'Spy', 'VindijaG1']\n",
    "bam_dir = '/mnt/expressions/mateja/Late_Neandertals/Final_complete_dataset/L35MQ25_mapptrack_per_individual/'\n",
    "bam_suffix = '_final.ontarget.L35MQ25.bam'"
   ]
  },
  {
   "cell_type": "code",
   "execution_count": 14,
   "metadata": {
    "collapsed": true
   },
   "outputs": [],
   "source": [
    "all_props = defaultdict(list)"
   ]
  },
  {
   "cell_type": "code",
   "execution_count": 15,
   "metadata": {},
   "outputs": [],
   "source": [
    "for nea in late_nea:\n",
    "    bam_path = bam_dir + nea + bam_suffix\n",
    "    bam_file = pysam.AlignmentFile(bam_path)\n",
    "    \n",
    "    props = []\n",
    "    for chrom, pos, anc, der in zip(catalog.chrom, catalog.pos, catalog.ancestral, catalog.derived):\n",
    "        # count the numbers of each base at the position\n",
    "        bases = get_pileup_bases(chrom, pos, bam_file)\n",
    "        bases_count = Counter(bases)\n",
    "\n",
    "        # calculate the proportion of ancestral bases observed at the position\n",
    "        # (NaN if the pileup is empty)\n",
    "        prop_at_site = np.nan if len(bases) == 0 else bases_count[anc] / len(bases)\n",
    "\n",
    "        #print(chrom, pos, anc, der, prop_ancestral, bases_count, bases)\n",
    "        props.append(prop_at_site)\n",
    "    \n",
    "    all_props[nea] = pd.Series(props)"
   ]
  },
  {
   "cell_type": "markdown",
   "metadata": {},
   "source": [
    "Convert the calculated proportions for each sample into a DataFrame and merge with the rest:"
   ]
  },
  {
   "cell_type": "code",
   "execution_count": 19,
   "metadata": {},
   "outputs": [],
   "source": [
    "catalog = catalog.join(pd.DataFrame(all_props))"
   ]
  },
  {
   "cell_type": "markdown",
   "metadata": {},
   "source": [
    "Verify that we really got what we wanted:"
   ]
  },
  {
   "cell_type": "code",
   "execution_count": 20,
   "metadata": {},
   "outputs": [
    {
     "data": {
      "text/html": [
       "<div>\n",
       "<style>\n",
       "    .dataframe thead tr:only-child th {\n",
       "        text-align: right;\n",
       "    }\n",
       "\n",
       "    .dataframe thead th {\n",
       "        text-align: left;\n",
       "    }\n",
       "\n",
       "    .dataframe tbody tr th {\n",
       "        vertical-align: top;\n",
       "    }\n",
       "</style>\n",
       "<table border=\"1\" class=\"dataframe\">\n",
       "  <thead>\n",
       "    <tr style=\"text-align: right;\">\n",
       "      <th></th>\n",
       "      <th>chrom</th>\n",
       "      <th>pos</th>\n",
       "      <th>consequence</th>\n",
       "      <th>ancestral</th>\n",
       "      <th>derived</th>\n",
       "      <th>Vindija</th>\n",
       "      <th>Altai</th>\n",
       "      <th>Denisovan</th>\n",
       "      <th>Goyet</th>\n",
       "      <th>Les_Cottes</th>\n",
       "      <th>Mezmaiskaya2</th>\n",
       "      <th>Spy</th>\n",
       "      <th>VindijaG1</th>\n",
       "    </tr>\n",
       "  </thead>\n",
       "  <tbody>\n",
       "    <tr>\n",
       "      <th>5</th>\n",
       "      <td>1</td>\n",
       "      <td>79095493</td>\n",
       "      <td>NON_SYNONYMOUS_CODING</td>\n",
       "      <td>A</td>\n",
       "      <td>G</td>\n",
       "      <td>1.0</td>\n",
       "      <td>1.0</td>\n",
       "      <td>1.0</td>\n",
       "      <td>1.000000</td>\n",
       "      <td>NaN</td>\n",
       "      <td>1.0</td>\n",
       "      <td>1.0</td>\n",
       "      <td>0.0</td>\n",
       "    </tr>\n",
       "    <tr>\n",
       "      <th>6</th>\n",
       "      <td>1</td>\n",
       "      <td>79106805</td>\n",
       "      <td>NON_SYNONYMOUS_CODING,SPLICE_SITE</td>\n",
       "      <td>A</td>\n",
       "      <td>G</td>\n",
       "      <td>1.0</td>\n",
       "      <td>1.0</td>\n",
       "      <td>1.0</td>\n",
       "      <td>1.000000</td>\n",
       "      <td>NaN</td>\n",
       "      <td>1.0</td>\n",
       "      <td>NaN</td>\n",
       "      <td>NaN</td>\n",
       "    </tr>\n",
       "    <tr>\n",
       "      <th>7</th>\n",
       "      <td>1</td>\n",
       "      <td>118558632</td>\n",
       "      <td>NON_SYNONYMOUS_CODING</td>\n",
       "      <td>C</td>\n",
       "      <td>T</td>\n",
       "      <td>1.0</td>\n",
       "      <td>1.0</td>\n",
       "      <td>1.0</td>\n",
       "      <td>0.666667</td>\n",
       "      <td>1.0</td>\n",
       "      <td>0.5</td>\n",
       "      <td>NaN</td>\n",
       "      <td>1.0</td>\n",
       "    </tr>\n",
       "    <tr>\n",
       "      <th>8</th>\n",
       "      <td>1</td>\n",
       "      <td>118634297</td>\n",
       "      <td>NON_SYNONYMOUS_CODING</td>\n",
       "      <td>C</td>\n",
       "      <td>A</td>\n",
       "      <td>1.0</td>\n",
       "      <td>1.0</td>\n",
       "      <td>1.0</td>\n",
       "      <td>1.000000</td>\n",
       "      <td>0.5</td>\n",
       "      <td>NaN</td>\n",
       "      <td>1.0</td>\n",
       "      <td>1.0</td>\n",
       "    </tr>\n",
       "    <tr>\n",
       "      <th>9</th>\n",
       "      <td>1</td>\n",
       "      <td>153751869</td>\n",
       "      <td>NON_SYNONYMOUS_CODING</td>\n",
       "      <td>T</td>\n",
       "      <td>G</td>\n",
       "      <td>NaN</td>\n",
       "      <td>1.0</td>\n",
       "      <td>1.0</td>\n",
       "      <td>1.000000</td>\n",
       "      <td>1.0</td>\n",
       "      <td>NaN</td>\n",
       "      <td>1.0</td>\n",
       "      <td>NaN</td>\n",
       "    </tr>\n",
       "  </tbody>\n",
       "</table>\n",
       "</div>"
      ],
      "text/plain": [
       "  chrom        pos                        consequence ancestral derived  \\\n",
       "5     1   79095493              NON_SYNONYMOUS_CODING         A       G   \n",
       "6     1   79106805  NON_SYNONYMOUS_CODING,SPLICE_SITE         A       G   \n",
       "7     1  118558632              NON_SYNONYMOUS_CODING         C       T   \n",
       "8     1  118634297              NON_SYNONYMOUS_CODING         C       A   \n",
       "9     1  153751869              NON_SYNONYMOUS_CODING         T       G   \n",
       "\n",
       "   Vindija  Altai  Denisovan     Goyet  Les_Cottes  Mezmaiskaya2  Spy  \\\n",
       "5      1.0    1.0        1.0  1.000000         NaN           1.0  1.0   \n",
       "6      1.0    1.0        1.0  1.000000         NaN           1.0  NaN   \n",
       "7      1.0    1.0        1.0  0.666667         1.0           0.5  NaN   \n",
       "8      1.0    1.0        1.0  1.000000         0.5           NaN  1.0   \n",
       "9      NaN    1.0        1.0  1.000000         1.0           NaN  1.0   \n",
       "\n",
       "   VindijaG1  \n",
       "5        0.0  \n",
       "6        NaN  \n",
       "7        1.0  \n",
       "8        1.0  \n",
       "9        NaN  "
      ]
     },
     "execution_count": 20,
     "metadata": {},
     "output_type": "execute_result"
    }
   ],
   "source": [
    "catalog.head()"
   ]
  },
  {
   "cell_type": "code",
   "execution_count": 26,
   "metadata": {},
   "outputs": [],
   "source": [
    "x = catalog.drop(labels=['chrom', 'pos', 'consequence', 'ancestral', 'derived'], axis=1)"
   ]
  },
  {
   "cell_type": "code",
   "execution_count": 30,
   "metadata": {},
   "outputs": [
    {
     "data": {
      "text/plain": [
       "<matplotlib.collections.PolyCollection at 0x7f9eb2a3acf8>"
      ]
     },
     "execution_count": 30,
     "metadata": {},
     "output_type": "execute_result"
    },
    {
     "name": "stderr",
     "output_type": "stream",
     "text": [
      "/home/martin_petr/.pyenv/versions/3.6.2/lib/python3.6/site-packages/matplotlib/colors.py:496: RuntimeWarning: invalid value encountered in less\n",
      "  cbook._putmask(xa, xa < 0.0, -1)\n"
     ]
    },
    {
     "data": {
      "image/png": "[encoded data removed]",
      "text/plain": [
       "<matplotlib.figure.Figure at 0x7f9eb29d47b8>"
      ]
     },
     "metadata": {},
     "output_type": "display_data"
    }
   ],
   "source": [
    "plt.pcolor(x)"
   ]
  }
 ],
 "metadata": {
  "kernelspec": {
   "display_name": "Python 3",
   "language": "python",
   "name": "python3"
  },
  "language_info": {
   "codemirror_mode": {
    "name": "ipython",
    "version": 3
   },
   "file_extension": ".py",
   "mimetype": "text/x-python",
   "name": "python",
   "nbconvert_exporter": "python",
   "pygments_lexer": "ipython3",
   "version": "3.6.2"
  }
 },
 "nbformat": 4,
 "nbformat_minor": 2
}
